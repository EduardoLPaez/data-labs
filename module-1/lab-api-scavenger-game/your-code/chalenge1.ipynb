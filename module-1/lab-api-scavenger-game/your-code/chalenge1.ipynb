{
 "cells": [
  {
   "cell_type": "code",
   "execution_count": 1,
   "metadata": {},
   "outputs": [],
   "source": [
    "import pandas as pd\n",
    "import numpy as np\n",
    "import requests \n",
    "# from json import json_normalize\n",
    "\n",
    "pd.set_option('display.max_columns', None)\n",
    "pd.set_option('display.max_rows', None)\n",
    "pd.set_option('display.max_colwidth', -1)  # displays all data. \n",
    "#main repo: ironhack-datalabs/madrid-oct-2018"
   ]
  },
  {
   "cell_type": "markdown",
   "metadata": {},
   "source": [
    "#### plan of attack\n",
    "- get the json first,\n",
    "- then go and do the cleaning with the json and pandas libraries\n",
    "- then just isolate the required stuff and done."
   ]
  },
  {
   "cell_type": "code",
   "execution_count": 2,
   "metadata": {},
   "outputs": [],
   "source": [
    "from importantstuff import git_user, git_token"
   ]
  },
  {
   "cell_type": "markdown",
   "metadata": {},
   "source": [
    "### need to do!!!\n",
    "- ask where to put files like importantstuff and edtoolkit to facilitate use.\n"
   ]
  },
  {
   "cell_type": "code",
   "execution_count": 3,
   "metadata": {},
   "outputs": [],
   "source": [
    "url = 'https://api.github.com/repos/ironhack-labs/data-labs/forks'"
   ]
  },
  {
   "cell_type": "code",
   "execution_count": 6,
   "metadata": {},
   "outputs": [
    {
     "name": "stdout",
     "output_type": "stream",
     "text": [
      "{'message': \"API rate limit exceeded for 104.219.179.22. (But here's the good news: Authenticated requests get a higher rate limit. Check out the documentation for more details.)\", 'documentation_url': 'https://developer.github.com/v3/#rate-limiting'}\n"
     ]
    }
   ],
   "source": [
    "header = str(git_user+ ':' + git_token)\n",
    "responce = requests.get(url, header)\n",
    "data = responce.json()\n",
    "try:\n",
    "    df = pd.DataFrame(data)\n",
    "    df.head()\n",
    "except:\n",
    "    print(data)\n",
    "    \n",
    "#apparently a way to get all the languages without lookiing at  everithing. \n"
   ]
  },
  {
   "cell_type": "code",
   "execution_count": null,
   "metadata": {},
   "outputs": [],
   "source": [
    "set(df['language'])"
   ]
  },
  {
   "cell_type": "code",
   "execution_count": null,
   "metadata": {},
   "outputs": [],
   "source": [
    "list(df)"
   ]
  },
  {
   "cell_type": "markdown",
   "metadata": {},
   "source": [
    "## chalange2!!"
   ]
  },
  {
   "cell_type": "code",
   "execution_count": null,
   "metadata": {},
   "outputs": [],
   "source": [
    "url = 'https://api.github.com/repos/ironhack-labs/data-labs/commits'"
   ]
  },
  {
   "cell_type": "code",
   "execution_count": null,
   "metadata": {},
   "outputs": [],
   "source": [
    "condition = url + '?since=2019-09-24'"
   ]
  },
  {
   "cell_type": "code",
   "execution_count": null,
   "metadata": {},
   "outputs": [],
   "source": [
    "header = str(git_user+ ':' + git_token)\n",
    "responce = requests.get(condition, header)\n",
    "data1 = responce.json()"
   ]
  },
  {
   "cell_type": "markdown",
   "metadata": {},
   "source": [
    "- issue with data frame understanding the json"
   ]
  },
  {
   "cell_type": "code",
   "execution_count": null,
   "metadata": {},
   "outputs": [],
   "source": [
    "try:\n",
    "    df1 = pd.DataFrame(data1)\n",
    "    df1.head()\n",
    "except:\n",
    "    print(data)\n",
    "#there been 8 commits between 2019-09-24 2019-10-01"
   ]
  },
  {
   "cell_type": "markdown",
   "metadata": {},
   "source": [
    "## Challange 3!"
   ]
  },
  {
   "cell_type": "code",
   "execution_count": null,
   "metadata": {},
   "outputs": [],
   "source": [
    "url = 'https://api.github.com/repos/ironhack-datalabs/scavenger/contnets'"
   ]
  },
  {
   "cell_type": "code",
   "execution_count": null,
   "metadata": {},
   "outputs": [],
   "source": [
    "#this will return json will all data asa list of jsons.\n",
    "#idea is then to loop through it to find the thing.\n",
    "#then loop the folder names with conditional to name,\n",
    "#remmember that the json is the url at most, once the url is known\n",
    "#dam thing is encoded in base64 use .b64decode from base64 module\n",
    "#"
   ]
  },
  {
   "cell_type": "code",
   "execution_count": null,
   "metadata": {},
   "outputs": [],
   "source": [
    "listy = []\n",
    "\n",
    "for i in range (1,25):\n",
    "    if i <=9:\n",
    "        condition = url + '?cq=.000'+str(i)+'.scavengerhunt/'\n",
    "    elif i > 9:\n",
    "        condition = url + '?cq=.00'+str(i)+'.scavengerhunt/'\n",
    "    header = str(git_user+ ':' + git_token)\n",
    "    responce = requests.get(condition, header)\n",
    "    print(responce)\n",
    "#     responce.encoding = 'utf-8'\n",
    "    data = responce.json()  \n",
    "    df2 = pd.DataFrame(data)"
   ]
  },
  {
   "cell_type": "code",
   "execution_count": null,
   "metadata": {},
   "outputs": [],
   "source": [
    "try:\n",
    "    df2 = pd.DataFrame(data)\n",
    "    df2.head()\n",
    "except:\n",
    "    print(data)"
   ]
  },
  {
   "cell_type": "code",
   "execution_count": null,
   "metadata": {},
   "outputs": [],
   "source": [
    "\n",
    "for i in range (13,25):\n",
    "    condition = url + '?cq=.00'+str(i)+'.scavengerhunt'\n",
    "    header = str(git_user+ ':' + git_token)\n",
    "    responce = requests.get(condition, header)\n",
    "    print(responce)\n",
    "    \n",
    "#     responce.encoding = 'utf-8'\n",
    "    data = responce.json\n",
    "    \n",
    "    df.append(data)"
   ]
  },
  {
   "cell_type": "code",
   "execution_count": null,
   "metadata": {},
   "outputs": [],
   "source": [
    "responce = requests.get(url).json()\n",
    "responce"
   ]
  },
  {
   "cell_type": "code",
   "execution_count": null,
   "metadata": {},
   "outputs": [],
   "source": []
  },
  {
   "cell_type": "code",
   "execution_count": null,
   "metadata": {},
   "outputs": [],
   "source": []
  }
 ],
 "metadata": {
  "kernelspec": {
   "display_name": "Python 3",
   "language": "python",
   "name": "python3"
  },
  "language_info": {
   "codemirror_mode": {
    "name": "ipython",
    "version": 3
   },
   "file_extension": ".py",
   "mimetype": "text/x-python",
   "name": "python",
   "nbconvert_exporter": "python",
   "pygments_lexer": "ipython3",
   "version": "3.7.1"
  }
 },
 "nbformat": 4,
 "nbformat_minor": 2
}
