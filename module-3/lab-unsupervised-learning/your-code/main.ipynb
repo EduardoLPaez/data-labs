{
 "cells": [
  {
   "cell_type": "markdown",
   "metadata": {},
   "source": [
    "# Before your start:\n",
    "- Read the README.md file\n",
    "- Comment as much as you can and use the resources in the README.md file\n",
    "- Happy learning!"
   ]
  },
  {
   "cell_type": "code",
   "execution_count": 1,
   "metadata": {},
   "outputs": [],
   "source": [
    "# Import your libraries:\n",
    "\n",
    "%matplotlib inline\n",
    "\n",
    "import matplotlib.pyplot as plt\n",
    "import seaborn as sns\n",
    "import numpy as np\n",
    "import pandas as pd\n",
    "from scipy import stats\n",
    "from yellowbrick.cluster import KElbowVisualizer"
   ]
  },
  {
   "cell_type": "code",
   "execution_count": 2,
   "metadata": {},
   "outputs": [],
   "source": [
    "def corr_matrix(df):\n",
    "    corr_matrix = df.corr().abs()\n",
    "    np.triu(np.ones(corr_matrix.shape), k = 1)\n",
    "    tri = np.triu(np.ones(corr_matrix.shape), k = 1).astype(np.bool)\n",
    "    upper = corr_matrix.where(tri)\n",
    "    to_drop = [col for col in upper.columns if any (upper[col]> .9)]\n",
    "    return df.drop(df[to_drop], axis = 1)"
   ]
  },
  {
   "cell_type": "code",
   "execution_count": 3,
   "metadata": {},
   "outputs": [],
   "source": [
    "def vis(df):\n",
    "    vis = KElbowVisualizer(\n",
    "        KMeans().fit(df),\n",
    "        k= (2,11)\n",
    "    )\n",
    "    vis.fit(df)\n",
    "    return vis.elbow_value_"
   ]
  },
  {
   "cell_type": "code",
   "execution_count": 4,
   "metadata": {},
   "outputs": [],
   "source": [
    "def outlier(df, threshold):\n",
    "    z = np.abs(stats.zscore(boston_df))\n",
    "    return 0"
   ]
  },
  {
   "cell_type": "code",
   "execution_count": 25,
   "metadata": {},
   "outputs": [],
   "source": [
    "def graph_labels(df, items, models):\n",
    "    fig, ax = plt.subplots( 1,2,figsize=(12,4))\n",
    "    for i, key in enumerate(models.keys()):\n",
    "        sns.scatterplot(\n",
    "            data = df,\n",
    "            x= items[0],\n",
    "            y = items[1],\n",
    "            hue = key,\n",
    "            style= key, # cool substitute to color .\n",
    "            palette = ['red','green','blue','yellow','orange','black'][:len(df[key].unique())],\n",
    "            legend = False,\n",
    "            ax= ax[i]\n",
    "        ).set_title(key)\n",
    "        ax[i].set(xlabel = None, ylabel = None)\n",
    "    "
   ]
  },
  {
   "cell_type": "code",
   "execution_count": 6,
   "metadata": {},
   "outputs": [
    {
     "ename": "NameError",
     "evalue": "name 'custoer_v2' is not defined",
     "output_type": "error",
     "traceback": [
      "\u001b[1;31m---------------------------------------------------------------------------\u001b[0m",
      "\u001b[1;31mNameError\u001b[0m                                 Traceback (most recent call last)",
      "\u001b[1;32m<ipython-input-6-f6dc7b51b5d8>\u001b[0m in \u001b[0;36m<module>\u001b[1;34m\u001b[0m\n\u001b[1;32m----> 1\u001b[1;33m \u001b[0mz\u001b[0m \u001b[1;33m=\u001b[0m \u001b[0mnp\u001b[0m\u001b[1;33m.\u001b[0m\u001b[0mabs\u001b[0m\u001b[1;33m(\u001b[0m\u001b[0mstats\u001b[0m\u001b[1;33m.\u001b[0m\u001b[0mzscore\u001b[0m\u001b[1;33m(\u001b[0m\u001b[0mcustoer_v2\u001b[0m\u001b[1;33m)\u001b[0m\u001b[1;33m)\u001b[0m\u001b[1;33m\u001b[0m\u001b[1;33m\u001b[0m\u001b[0m\n\u001b[0m\u001b[0;32m      2\u001b[0m \u001b[0mz\u001b[0m\u001b[1;33m.\u001b[0m\u001b[0mshape\u001b[0m\u001b[1;33m\u001b[0m\u001b[1;33m\u001b[0m\u001b[0m\n",
      "\u001b[1;31mNameError\u001b[0m: name 'custoer_v2' is not defined"
     ]
    }
   ],
   "source": [
    "# z = np.abs(stats.zscore(custoer_v2))\n",
    "# z.shape"
   ]
  },
  {
   "cell_type": "markdown",
   "metadata": {},
   "source": [
    "# Challenge 1 - Import and Describe the Dataset\n",
    "\n",
    "In this lab, we will use a dataset containing information about customer preferences. We will look at how much each customer spends in a year on each subcategory in the grocery store and try to find similarities using clustering.\n",
    "\n",
    "The origin of the dataset is [here](https://archive.ics.uci.edu/ml/datasets/wholesale+customers)."
   ]
  },
  {
   "cell_type": "code",
   "execution_count": 7,
   "metadata": {},
   "outputs": [],
   "source": [
    "# loading the data:\n",
    "customers = pd.read_csv('../Wholesale customers data.csv')"
   ]
  },
  {
   "cell_type": "markdown",
   "metadata": {},
   "source": [
    "#### Explore the dataset with mathematical and visualization techniques. What do you find?\n",
    "\n",
    "Checklist:\n",
    "\n",
    "* What does each column mean? no idea, food place maybe....\n",
    "* Any categorical data to convert? nope.\n",
    "* Any missing data to remove? nope.\n",
    "* Column collinearity - any high correlations? detergent_paper.\n",
    "* Descriptive statistics - any outliers to remove? \n",
    "* Column-wise data distribution - is the distribution skewed? most are left skewed.\n",
    "* Etc.\n",
    "\n",
    "Additional info: Over a century ago, an Italian economist named Vilfredo Pareto discovered that roughly 20% of the customers account for 80% of the typical retail sales. This is called the [Pareto principle](https://en.wikipedia.org/wiki/Pareto_principle). Check if this dataset displays this characteristic."
   ]
  },
  {
   "cell_type": "code",
   "execution_count": 8,
   "metadata": {},
   "outputs": [
    {
     "data": {
      "text/html": [
       "<div>\n",
       "<style scoped>\n",
       "    .dataframe tbody tr th:only-of-type {\n",
       "        vertical-align: middle;\n",
       "    }\n",
       "\n",
       "    .dataframe tbody tr th {\n",
       "        vertical-align: top;\n",
       "    }\n",
       "\n",
       "    .dataframe thead th {\n",
       "        text-align: right;\n",
       "    }\n",
       "</style>\n",
       "<table border=\"1\" class=\"dataframe\">\n",
       "  <thead>\n",
       "    <tr style=\"text-align: right;\">\n",
       "      <th></th>\n",
       "      <th>Channel</th>\n",
       "      <th>Region</th>\n",
       "      <th>Fresh</th>\n",
       "      <th>Milk</th>\n",
       "      <th>Grocery</th>\n",
       "      <th>Frozen</th>\n",
       "      <th>Detergents_Paper</th>\n",
       "      <th>Delicassen</th>\n",
       "    </tr>\n",
       "  </thead>\n",
       "  <tbody>\n",
       "    <tr>\n",
       "      <th>0</th>\n",
       "      <td>2</td>\n",
       "      <td>3</td>\n",
       "      <td>12669</td>\n",
       "      <td>9656</td>\n",
       "      <td>7561</td>\n",
       "      <td>214</td>\n",
       "      <td>2674</td>\n",
       "      <td>1338</td>\n",
       "    </tr>\n",
       "    <tr>\n",
       "      <th>1</th>\n",
       "      <td>2</td>\n",
       "      <td>3</td>\n",
       "      <td>7057</td>\n",
       "      <td>9810</td>\n",
       "      <td>9568</td>\n",
       "      <td>1762</td>\n",
       "      <td>3293</td>\n",
       "      <td>1776</td>\n",
       "    </tr>\n",
       "    <tr>\n",
       "      <th>2</th>\n",
       "      <td>2</td>\n",
       "      <td>3</td>\n",
       "      <td>6353</td>\n",
       "      <td>8808</td>\n",
       "      <td>7684</td>\n",
       "      <td>2405</td>\n",
       "      <td>3516</td>\n",
       "      <td>7844</td>\n",
       "    </tr>\n",
       "    <tr>\n",
       "      <th>3</th>\n",
       "      <td>1</td>\n",
       "      <td>3</td>\n",
       "      <td>13265</td>\n",
       "      <td>1196</td>\n",
       "      <td>4221</td>\n",
       "      <td>6404</td>\n",
       "      <td>507</td>\n",
       "      <td>1788</td>\n",
       "    </tr>\n",
       "    <tr>\n",
       "      <th>4</th>\n",
       "      <td>2</td>\n",
       "      <td>3</td>\n",
       "      <td>22615</td>\n",
       "      <td>5410</td>\n",
       "      <td>7198</td>\n",
       "      <td>3915</td>\n",
       "      <td>1777</td>\n",
       "      <td>5185</td>\n",
       "    </tr>\n",
       "  </tbody>\n",
       "</table>\n",
       "</div>"
      ],
      "text/plain": [
       "   Channel  Region  Fresh  Milk  Grocery  Frozen  Detergents_Paper  Delicassen\n",
       "0        2       3  12669  9656     7561     214              2674        1338\n",
       "1        2       3   7057  9810     9568    1762              3293        1776\n",
       "2        2       3   6353  8808     7684    2405              3516        7844\n",
       "3        1       3  13265  1196     4221    6404               507        1788\n",
       "4        2       3  22615  5410     7198    3915              1777        5185"
      ]
     },
     "execution_count": 8,
     "metadata": {},
     "output_type": "execute_result"
    }
   ],
   "source": [
    "# Your code here:\n",
    "customers.head()"
   ]
  },
  {
   "cell_type": "code",
   "execution_count": 9,
   "metadata": {},
   "outputs": [],
   "source": [
    "# customers.isna().sum() # no nulls.\n",
    "# customers.dtypes # all int64\n",
    "custoer_v2 = corr_matrix(customers)\n",
    "# custoer_v2['Frozen'].sort_values()#ascending=False)\n"
   ]
  },
  {
   "cell_type": "code",
   "execution_count": 10,
   "metadata": {},
   "outputs": [
    {
     "name": "stderr",
     "output_type": "stream",
     "text": [
      "C:\\Users\\Ed-Laptop\\Anaconda3\\lib\\site-packages\\scipy\\stats\\stats.py:1713: FutureWarning: Using a non-tuple sequence for multidimensional indexing is deprecated; use `arr[tuple(seq)]` instead of `arr[seq]`. In the future this will be interpreted as an array index, `arr[np.array(seq)]`, which will result either in an error or a different result.\n",
      "  return np.add.reduce(sorted[indexer] * weights, axis=axis) / sumval\n"
     ]
    },
    {
     "data": {
      "image/png": "[encoded data removed]",
      "text/plain": [
       "<Figure size 1440x288 with 7 Axes>"
      ]
     },
     "metadata": {
      "needs_background": "light"
     },
     "output_type": "display_data"
    }
   ],
   "source": [
    "fig, ax = plt.subplots(1,7, figsize = (20,4))\n",
    "for i, p in enumerate(custoer_v2.columns):\n",
    "    sns.distplot(\n",
    "        custoer_v2[p],\n",
    "        ax=ax[i]\n",
    "    )\n",
    "    ax[i].set_title(f'{p}')\n",
    "plt.show()\n",
    "# sns.distplot(custoer_v2['Channel'])"
   ]
  },
  {
   "cell_type": "code",
   "execution_count": 11,
   "metadata": {},
   "outputs": [
    {
     "data": {
      "text/plain": [
       "'\\nno nulls to kill.\\nall features are set to int64 and are not dates. \\nthe one highly correlated column was killed already.\\nthe distribution is mostly left skewed though, at least in the columns with more variables than 3. \\n\\n'"
      ]
     },
     "execution_count": 11,
     "metadata": {},
     "output_type": "execute_result"
    }
   ],
   "source": [
    "# Your observations here\n",
    "'''\n",
    "no nulls to kill.\n",
    "all features are set to int64 and are not dates. \n",
    "the one highly correlated column was killed already.\n",
    "the distribution is mostly left skewed though, at least in the columns with more variables than 3. \n",
    "\n",
    "'''"
   ]
  },
  {
   "cell_type": "markdown",
   "metadata": {},
   "source": [
    "# Challenge 2 - Data Cleaning and Transformation\n",
    "\n",
    "If your conclusion from the previous challenge is the data need cleaning/transformation, do it in the cells below. However, if your conclusion is the data need not be cleaned or transformed, feel free to skip this challenge. But if you do choose the latter, please provide rationale."
   ]
  },
  {
   "cell_type": "code",
   "execution_count": 12,
   "metadata": {},
   "outputs": [
    {
     "ename": "TypeError",
     "evalue": "outlier() missing 1 required positional argument: 'threshold'",
     "output_type": "error",
     "traceback": [
      "\u001b[1;31m---------------------------------------------------------------------------\u001b[0m",
      "\u001b[1;31mTypeError\u001b[0m                                 Traceback (most recent call last)",
      "\u001b[1;32m<ipython-input-12-40f634054e0c>\u001b[0m in \u001b[0;36m<module>\u001b[1;34m\u001b[0m\n\u001b[0;32m      1\u001b[0m \u001b[1;31m# Your code here\u001b[0m\u001b[1;33m\u001b[0m\u001b[1;33m\u001b[0m\u001b[1;33m\u001b[0m\u001b[0m\n\u001b[0;32m      2\u001b[0m \u001b[0mcustoer_v2\u001b[0m \u001b[1;33m=\u001b[0m \u001b[0mcorr_matrix\u001b[0m\u001b[1;33m(\u001b[0m\u001b[0mcustomers\u001b[0m\u001b[1;33m)\u001b[0m \u001b[1;31m# removed higly correlated cloumns.\u001b[0m\u001b[1;33m\u001b[0m\u001b[1;33m\u001b[0m\u001b[0m\n\u001b[1;32m----> 3\u001b[1;33m \u001b[0mcustoer_v3\u001b[0m \u001b[1;33m=\u001b[0m \u001b[0moutlier\u001b[0m\u001b[1;33m(\u001b[0m\u001b[0mcustoer_v2\u001b[0m\u001b[1;33m)\u001b[0m\u001b[1;31m# remuved outliers.\u001b[0m\u001b[1;33m\u001b[0m\u001b[1;33m\u001b[0m\u001b[0m\n\u001b[0m",
      "\u001b[1;31mTypeError\u001b[0m: outlier() missing 1 required positional argument: 'threshold'"
     ]
    }
   ],
   "source": [
    "# Your code here\n",
    "custoer_v2 = corr_matrix(customers) # removed higly correlated cloumns. \n",
    "custoer_v3 = outlier(custoer_v2)# remuved outliers."
   ]
  },
  {
   "cell_type": "code",
   "execution_count": null,
   "metadata": {},
   "outputs": [],
   "source": [
    "# Your comment here"
   ]
  },
  {
   "cell_type": "markdown",
   "metadata": {},
   "source": [
    "# Challenge 3 - Data Preprocessing\n",
    "\n",
    "One problem with the dataset is the value ranges are remarkably different across various categories (e.g. `Fresh` and `Grocery` compared to `Detergents_Paper` and `Delicassen`). If you made this observation in the first challenge, you've done a great job! This means you not only completed the bonus questions in the previous Supervised Learning lab but also researched deep into [*feature scaling*](https://en.wikipedia.org/wiki/Feature_scaling). Keep on the good work!\n",
    "\n",
    "Diverse value ranges in different features could cause issues in our clustering. The way to reduce the problem is through feature scaling. We'll use this technique again with this dataset.\n",
    "\n",
    "#### We will use the `StandardScaler` from `sklearn.preprocessing` and scale our data. Read more about `StandardScaler` [here](https://scikit-learn.org/stable/modules/generated/sklearn.preprocessing.StandardScaler.html#sklearn.preprocessing.StandardScaler).\n",
    "\n",
    "*After scaling your data, assign the transformed data to a new variable `customers_scale`.*"
   ]
  },
  {
   "cell_type": "code",
   "execution_count": 13,
   "metadata": {},
   "outputs": [
    {
     "name": "stderr",
     "output_type": "stream",
     "text": [
      "C:\\Users\\Ed-Laptop\\Anaconda3\\lib\\site-packages\\sklearn\\preprocessing\\data.py:625: DataConversionWarning: Data with input dtype int64 were all converted to float64 by StandardScaler.\n",
      "  return self.partial_fit(X, y)\n",
      "C:\\Users\\Ed-Laptop\\Anaconda3\\lib\\site-packages\\ipykernel_launcher.py:8: DataConversionWarning: Data with input dtype int64 were all converted to float64 by StandardScaler.\n",
      "  \n"
     ]
    },
    {
     "data": {
      "text/html": [
       "<div>\n",
       "<style scoped>\n",
       "    .dataframe tbody tr th:only-of-type {\n",
       "        vertical-align: middle;\n",
       "    }\n",
       "\n",
       "    .dataframe tbody tr th {\n",
       "        vertical-align: top;\n",
       "    }\n",
       "\n",
       "    .dataframe thead th {\n",
       "        text-align: right;\n",
       "    }\n",
       "</style>\n",
       "<table border=\"1\" class=\"dataframe\">\n",
       "  <thead>\n",
       "    <tr style=\"text-align: right;\">\n",
       "      <th></th>\n",
       "      <th>Channel</th>\n",
       "      <th>Region</th>\n",
       "      <th>Fresh</th>\n",
       "      <th>Milk</th>\n",
       "      <th>Grocery</th>\n",
       "      <th>Frozen</th>\n",
       "      <th>Delicassen</th>\n",
       "    </tr>\n",
       "  </thead>\n",
       "  <tbody>\n",
       "    <tr>\n",
       "      <th>0</th>\n",
       "      <td>1.448652</td>\n",
       "      <td>0.590668</td>\n",
       "      <td>0.052933</td>\n",
       "      <td>0.523568</td>\n",
       "      <td>-0.041115</td>\n",
       "      <td>-0.589367</td>\n",
       "      <td>-0.066339</td>\n",
       "    </tr>\n",
       "    <tr>\n",
       "      <th>1</th>\n",
       "      <td>1.448652</td>\n",
       "      <td>0.590668</td>\n",
       "      <td>-0.391302</td>\n",
       "      <td>0.544458</td>\n",
       "      <td>0.170318</td>\n",
       "      <td>-0.270136</td>\n",
       "      <td>0.089151</td>\n",
       "    </tr>\n",
       "    <tr>\n",
       "      <th>2</th>\n",
       "      <td>1.448652</td>\n",
       "      <td>0.590668</td>\n",
       "      <td>-0.447029</td>\n",
       "      <td>0.408538</td>\n",
       "      <td>-0.028157</td>\n",
       "      <td>-0.137536</td>\n",
       "      <td>2.243293</td>\n",
       "    </tr>\n",
       "    <tr>\n",
       "      <th>3</th>\n",
       "      <td>-0.690297</td>\n",
       "      <td>0.590668</td>\n",
       "      <td>0.100111</td>\n",
       "      <td>-0.624020</td>\n",
       "      <td>-0.392977</td>\n",
       "      <td>0.687144</td>\n",
       "      <td>0.093411</td>\n",
       "    </tr>\n",
       "    <tr>\n",
       "      <th>4</th>\n",
       "      <td>1.448652</td>\n",
       "      <td>0.590668</td>\n",
       "      <td>0.840239</td>\n",
       "      <td>-0.052396</td>\n",
       "      <td>-0.079356</td>\n",
       "      <td>0.173859</td>\n",
       "      <td>1.299347</td>\n",
       "    </tr>\n",
       "    <tr>\n",
       "      <th>5</th>\n",
       "      <td>1.448652</td>\n",
       "      <td>0.590668</td>\n",
       "      <td>-0.204806</td>\n",
       "      <td>0.334067</td>\n",
       "      <td>-0.297637</td>\n",
       "      <td>-0.496155</td>\n",
       "      <td>-0.026224</td>\n",
       "    </tr>\n",
       "    <tr>\n",
       "      <th>6</th>\n",
       "      <td>1.448652</td>\n",
       "      <td>0.590668</td>\n",
       "      <td>0.009950</td>\n",
       "      <td>-0.352316</td>\n",
       "      <td>-0.102849</td>\n",
       "      <td>-0.534512</td>\n",
       "      <td>-0.347854</td>\n",
       "    </tr>\n",
       "    <tr>\n",
       "      <th>7</th>\n",
       "      <td>1.448652</td>\n",
       "      <td>0.590668</td>\n",
       "      <td>-0.349981</td>\n",
       "      <td>-0.113981</td>\n",
       "      <td>0.155359</td>\n",
       "      <td>-0.289315</td>\n",
       "      <td>0.369601</td>\n",
       "    </tr>\n",
       "    <tr>\n",
       "      <th>8</th>\n",
       "      <td>-0.690297</td>\n",
       "      <td>0.590668</td>\n",
       "      <td>-0.477901</td>\n",
       "      <td>-0.291409</td>\n",
       "      <td>-0.185336</td>\n",
       "      <td>-0.545854</td>\n",
       "      <td>-0.275079</td>\n",
       "    </tr>\n",
       "    <tr>\n",
       "      <th>9</th>\n",
       "      <td>1.448652</td>\n",
       "      <td>0.590668</td>\n",
       "      <td>-0.474497</td>\n",
       "      <td>0.718495</td>\n",
       "      <td>1.151423</td>\n",
       "      <td>-0.394488</td>\n",
       "      <td>0.203461</td>\n",
       "    </tr>\n",
       "    <tr>\n",
       "      <th>10</th>\n",
       "      <td>1.448652</td>\n",
       "      <td>0.590668</td>\n",
       "      <td>-0.683474</td>\n",
       "      <td>-0.053346</td>\n",
       "      <td>0.529133</td>\n",
       "      <td>0.273876</td>\n",
       "      <td>0.077791</td>\n",
       "    </tr>\n",
       "    <tr>\n",
       "      <th>11</th>\n",
       "      <td>1.448652</td>\n",
       "      <td>0.590668</td>\n",
       "      <td>0.090692</td>\n",
       "      <td>-0.633787</td>\n",
       "      <td>-0.361162</td>\n",
       "      <td>-0.340664</td>\n",
       "      <td>-0.364894</td>\n",
       "    </tr>\n",
       "    <tr>\n",
       "      <th>12</th>\n",
       "      <td>1.448652</td>\n",
       "      <td>0.590668</td>\n",
       "      <td>1.560499</td>\n",
       "      <td>0.884800</td>\n",
       "      <td>0.400925</td>\n",
       "      <td>-0.574313</td>\n",
       "      <td>0.499176</td>\n",
       "    </tr>\n",
       "    <tr>\n",
       "      <th>13</th>\n",
       "      <td>1.448652</td>\n",
       "      <td>0.590668</td>\n",
       "      <td>0.729576</td>\n",
       "      <td>0.055851</td>\n",
       "      <td>0.740672</td>\n",
       "      <td>0.004757</td>\n",
       "      <td>-0.327619</td>\n",
       "    </tr>\n",
       "    <tr>\n",
       "      <th>14</th>\n",
       "      <td>1.448652</td>\n",
       "      <td>0.590668</td>\n",
       "      <td>1.001564</td>\n",
       "      <td>0.497659</td>\n",
       "      <td>0.436111</td>\n",
       "      <td>-0.572869</td>\n",
       "      <td>0.228311</td>\n",
       "    </tr>\n",
       "    <tr>\n",
       "      <th>15</th>\n",
       "      <td>-0.690297</td>\n",
       "      <td>0.590668</td>\n",
       "      <td>-0.138313</td>\n",
       "      <td>-0.635143</td>\n",
       "      <td>-0.435116</td>\n",
       "      <td>-0.551629</td>\n",
       "      <td>-0.395069</td>\n",
       "    </tr>\n",
       "    <tr>\n",
       "      <th>16</th>\n",
       "      <td>1.448652</td>\n",
       "      <td>0.590668</td>\n",
       "      <td>-0.869179</td>\n",
       "      <td>0.409623</td>\n",
       "      <td>0.439272</td>\n",
       "      <td>-0.605865</td>\n",
       "      <td>-0.157929</td>\n",
       "    </tr>\n",
       "    <tr>\n",
       "      <th>17</th>\n",
       "      <td>-0.690297</td>\n",
       "      <td>0.590668</td>\n",
       "      <td>-0.484788</td>\n",
       "      <td>0.048933</td>\n",
       "      <td>-0.528665</td>\n",
       "      <td>-0.460479</td>\n",
       "      <td>1.048362</td>\n",
       "    </tr>\n",
       "    <tr>\n",
       "      <th>18</th>\n",
       "      <td>1.448652</td>\n",
       "      <td>0.590668</td>\n",
       "      <td>0.522499</td>\n",
       "      <td>0.071993</td>\n",
       "      <td>0.226258</td>\n",
       "      <td>-0.178780</td>\n",
       "      <td>0.587926</td>\n",
       "    </tr>\n",
       "    <tr>\n",
       "      <th>19</th>\n",
       "      <td>-0.690297</td>\n",
       "      <td>0.590668</td>\n",
       "      <td>-0.334071</td>\n",
       "      <td>-0.447812</td>\n",
       "      <td>0.159362</td>\n",
       "      <td>-0.495536</td>\n",
       "      <td>-0.363474</td>\n",
       "    </tr>\n",
       "    <tr>\n",
       "      <th>20</th>\n",
       "      <td>1.448652</td>\n",
       "      <td>0.590668</td>\n",
       "      <td>0.438987</td>\n",
       "      <td>-0.173259</td>\n",
       "      <td>-0.352839</td>\n",
       "      <td>-0.413666</td>\n",
       "      <td>0.212691</td>\n",
       "    </tr>\n",
       "    <tr>\n",
       "      <th>21</th>\n",
       "      <td>-0.690297</td>\n",
       "      <td>0.590668</td>\n",
       "      <td>-0.509248</td>\n",
       "      <td>-0.668106</td>\n",
       "      <td>-0.625901</td>\n",
       "      <td>0.064149</td>\n",
       "      <td>-0.339334</td>\n",
       "    </tr>\n",
       "    <tr>\n",
       "      <th>22</th>\n",
       "      <td>-0.690297</td>\n",
       "      <td>0.590668</td>\n",
       "      <td>1.525828</td>\n",
       "      <td>-0.526217</td>\n",
       "      <td>-0.366851</td>\n",
       "      <td>1.306634</td>\n",
       "      <td>0.997242</td>\n",
       "    </tr>\n",
       "    <tr>\n",
       "      <th>23</th>\n",
       "      <td>1.448652</td>\n",
       "      <td>0.590668</td>\n",
       "      <td>1.137716</td>\n",
       "      <td>4.154476</td>\n",
       "      <td>1.482005</td>\n",
       "      <td>0.429367</td>\n",
       "      <td>5.324340</td>\n",
       "    </tr>\n",
       "    <tr>\n",
       "      <th>24</th>\n",
       "      <td>1.448652</td>\n",
       "      <td>0.590668</td>\n",
       "      <td>0.842773</td>\n",
       "      <td>0.539846</td>\n",
       "      <td>0.615308</td>\n",
       "      <td>-0.032363</td>\n",
       "      <td>1.509862</td>\n",
       "    </tr>\n",
       "    <tr>\n",
       "      <th>25</th>\n",
       "      <td>1.448652</td>\n",
       "      <td>0.590668</td>\n",
       "      <td>0.329670</td>\n",
       "      <td>-0.212462</td>\n",
       "      <td>-0.037533</td>\n",
       "      <td>-0.592048</td>\n",
       "      <td>-0.521094</td>\n",
       "    </tr>\n",
       "    <tr>\n",
       "      <th>26</th>\n",
       "      <td>-0.690297</td>\n",
       "      <td>0.590668</td>\n",
       "      <td>-0.166414</td>\n",
       "      <td>-0.655897</td>\n",
       "      <td>-0.536250</td>\n",
       "      <td>0.016306</td>\n",
       "      <td>-0.245614</td>\n",
       "    </tr>\n",
       "    <tr>\n",
       "      <th>27</th>\n",
       "      <td>-0.690297</td>\n",
       "      <td>0.590668</td>\n",
       "      <td>0.180140</td>\n",
       "      <td>-0.677330</td>\n",
       "      <td>-0.516866</td>\n",
       "      <td>-0.533481</td>\n",
       "      <td>-0.357439</td>\n",
       "    </tr>\n",
       "    <tr>\n",
       "      <th>28</th>\n",
       "      <td>1.448652</td>\n",
       "      <td>0.590668</td>\n",
       "      <td>-0.624343</td>\n",
       "      <td>1.992372</td>\n",
       "      <td>1.896865</td>\n",
       "      <td>-0.394694</td>\n",
       "      <td>1.306802</td>\n",
       "    </tr>\n",
       "    <tr>\n",
       "      <th>29</th>\n",
       "      <td>-0.690297</td>\n",
       "      <td>0.590668</td>\n",
       "      <td>2.460843</td>\n",
       "      <td>-0.501394</td>\n",
       "      <td>-0.562798</td>\n",
       "      <td>-0.386033</td>\n",
       "      <td>-0.249164</td>\n",
       "    </tr>\n",
       "    <tr>\n",
       "      <th>...</th>\n",
       "      <td>...</td>\n",
       "      <td>...</td>\n",
       "      <td>...</td>\n",
       "      <td>...</td>\n",
       "      <td>...</td>\n",
       "      <td>...</td>\n",
       "      <td>...</td>\n",
       "    </tr>\n",
       "    <tr>\n",
       "      <th>410</th>\n",
       "      <td>-0.690297</td>\n",
       "      <td>0.590668</td>\n",
       "      <td>-0.424865</td>\n",
       "      <td>-0.501936</td>\n",
       "      <td>-0.356948</td>\n",
       "      <td>-0.347057</td>\n",
       "      <td>0.130331</td>\n",
       "    </tr>\n",
       "    <tr>\n",
       "      <th>411</th>\n",
       "      <td>-0.690297</td>\n",
       "      <td>0.590668</td>\n",
       "      <td>-0.781630</td>\n",
       "      <td>-0.340107</td>\n",
       "      <td>-0.492004</td>\n",
       "      <td>-0.316948</td>\n",
       "      <td>1.008247</td>\n",
       "    </tr>\n",
       "    <tr>\n",
       "      <th>412</th>\n",
       "      <td>-0.690297</td>\n",
       "      <td>0.590668</td>\n",
       "      <td>-0.942242</td>\n",
       "      <td>-0.297242</td>\n",
       "      <td>0.468664</td>\n",
       "      <td>-0.613289</td>\n",
       "      <td>-0.519319</td>\n",
       "    </tr>\n",
       "    <tr>\n",
       "      <th>413</th>\n",
       "      <td>-0.690297</td>\n",
       "      <td>0.590668</td>\n",
       "      <td>-0.555476</td>\n",
       "      <td>-0.127139</td>\n",
       "      <td>-0.138878</td>\n",
       "      <td>3.050856</td>\n",
       "      <td>0.323096</td>\n",
       "    </tr>\n",
       "    <tr>\n",
       "      <th>414</th>\n",
       "      <td>-0.690297</td>\n",
       "      <td>0.590668</td>\n",
       "      <td>-0.477426</td>\n",
       "      <td>-0.516315</td>\n",
       "      <td>-0.477677</td>\n",
       "      <td>0.537634</td>\n",
       "      <td>-0.438379</td>\n",
       "    </tr>\n",
       "    <tr>\n",
       "      <th>415</th>\n",
       "      <td>1.448652</td>\n",
       "      <td>0.590668</td>\n",
       "      <td>-0.329163</td>\n",
       "      <td>0.033876</td>\n",
       "      <td>0.063285</td>\n",
       "      <td>-0.284778</td>\n",
       "      <td>0.123941</td>\n",
       "    </tr>\n",
       "    <tr>\n",
       "      <th>416</th>\n",
       "      <td>1.448652</td>\n",
       "      <td>0.590668</td>\n",
       "      <td>-0.602496</td>\n",
       "      <td>0.697741</td>\n",
       "      <td>0.311485</td>\n",
       "      <td>-0.458623</td>\n",
       "      <td>-0.188814</td>\n",
       "    </tr>\n",
       "    <tr>\n",
       "      <th>417</th>\n",
       "      <td>-0.690297</td>\n",
       "      <td>0.590668</td>\n",
       "      <td>-0.548985</td>\n",
       "      <td>-0.040324</td>\n",
       "      <td>0.326971</td>\n",
       "      <td>-0.558434</td>\n",
       "      <td>-0.163964</td>\n",
       "    </tr>\n",
       "    <tr>\n",
       "      <th>418</th>\n",
       "      <td>1.448652</td>\n",
       "      <td>0.590668</td>\n",
       "      <td>-0.897676</td>\n",
       "      <td>0.365944</td>\n",
       "      <td>1.124138</td>\n",
       "      <td>-0.606071</td>\n",
       "      <td>-0.265849</td>\n",
       "    </tr>\n",
       "    <tr>\n",
       "      <th>419</th>\n",
       "      <td>-0.690297</td>\n",
       "      <td>0.590668</td>\n",
       "      <td>-0.248501</td>\n",
       "      <td>-0.273097</td>\n",
       "      <td>-0.603462</td>\n",
       "      <td>-0.502960</td>\n",
       "      <td>-0.001374</td>\n",
       "    </tr>\n",
       "    <tr>\n",
       "      <th>420</th>\n",
       "      <td>-0.690297</td>\n",
       "      <td>0.590668</td>\n",
       "      <td>-0.597192</td>\n",
       "      <td>-0.071930</td>\n",
       "      <td>0.555786</td>\n",
       "      <td>-0.628343</td>\n",
       "      <td>-0.046814</td>\n",
       "    </tr>\n",
       "    <tr>\n",
       "      <th>421</th>\n",
       "      <td>1.448652</td>\n",
       "      <td>0.590668</td>\n",
       "      <td>0.400754</td>\n",
       "      <td>-0.128767</td>\n",
       "      <td>0.116064</td>\n",
       "      <td>-0.420884</td>\n",
       "      <td>0.091991</td>\n",
       "    </tr>\n",
       "    <tr>\n",
       "      <th>422</th>\n",
       "      <td>-0.690297</td>\n",
       "      <td>0.590668</td>\n",
       "      <td>1.139853</td>\n",
       "      <td>-0.599468</td>\n",
       "      <td>-0.398139</td>\n",
       "      <td>-0.462335</td>\n",
       "      <td>-0.108939</td>\n",
       "    </tr>\n",
       "    <tr>\n",
       "      <th>423</th>\n",
       "      <td>1.448652</td>\n",
       "      <td>0.590668</td>\n",
       "      <td>0.440491</td>\n",
       "      <td>-0.286255</td>\n",
       "      <td>-0.347045</td>\n",
       "      <td>-0.415110</td>\n",
       "      <td>-0.304189</td>\n",
       "    </tr>\n",
       "    <tr>\n",
       "      <th>424</th>\n",
       "      <td>1.448652</td>\n",
       "      <td>0.590668</td>\n",
       "      <td>0.394184</td>\n",
       "      <td>-0.395045</td>\n",
       "      <td>0.450965</td>\n",
       "      <td>-0.453261</td>\n",
       "      <td>-0.452934</td>\n",
       "    </tr>\n",
       "    <tr>\n",
       "      <th>425</th>\n",
       "      <td>-0.690297</td>\n",
       "      <td>0.590668</td>\n",
       "      <td>-0.059946</td>\n",
       "      <td>-0.459614</td>\n",
       "      <td>-0.564483</td>\n",
       "      <td>2.531590</td>\n",
       "      <td>0.128201</td>\n",
       "    </tr>\n",
       "    <tr>\n",
       "      <th>426</th>\n",
       "      <td>-0.690297</td>\n",
       "      <td>0.590668</td>\n",
       "      <td>0.089742</td>\n",
       "      <td>0.481652</td>\n",
       "      <td>0.670510</td>\n",
       "      <td>0.014243</td>\n",
       "      <td>0.131041</td>\n",
       "    </tr>\n",
       "    <tr>\n",
       "      <th>427</th>\n",
       "      <td>-0.690297</td>\n",
       "      <td>0.590668</td>\n",
       "      <td>1.504930</td>\n",
       "      <td>1.477314</td>\n",
       "      <td>-0.265717</td>\n",
       "      <td>2.476735</td>\n",
       "      <td>-0.128464</td>\n",
       "    </tr>\n",
       "    <tr>\n",
       "      <th>428</th>\n",
       "      <td>-0.690297</td>\n",
       "      <td>0.590668</td>\n",
       "      <td>-0.708726</td>\n",
       "      <td>0.023567</td>\n",
       "      <td>-0.320392</td>\n",
       "      <td>-0.180224</td>\n",
       "      <td>-0.428794</td>\n",
       "    </tr>\n",
       "    <tr>\n",
       "      <th>429</th>\n",
       "      <td>-0.690297</td>\n",
       "      <td>0.590668</td>\n",
       "      <td>-0.268607</td>\n",
       "      <td>-0.548871</td>\n",
       "      <td>-0.460505</td>\n",
       "      <td>-0.623806</td>\n",
       "      <td>0.346526</td>\n",
       "    </tr>\n",
       "    <tr>\n",
       "      <th>430</th>\n",
       "      <td>-0.690297</td>\n",
       "      <td>0.590668</td>\n",
       "      <td>-0.704768</td>\n",
       "      <td>-0.212462</td>\n",
       "      <td>0.898799</td>\n",
       "      <td>-0.514921</td>\n",
       "      <td>0.197071</td>\n",
       "    </tr>\n",
       "    <tr>\n",
       "      <th>431</th>\n",
       "      <td>-0.690297</td>\n",
       "      <td>0.590668</td>\n",
       "      <td>-0.274465</td>\n",
       "      <td>-0.039374</td>\n",
       "      <td>-0.294055</td>\n",
       "      <td>2.147605</td>\n",
       "      <td>-0.009539</td>\n",
       "    </tr>\n",
       "    <tr>\n",
       "      <th>432</th>\n",
       "      <td>-0.690297</td>\n",
       "      <td>0.590668</td>\n",
       "      <td>0.721661</td>\n",
       "      <td>-0.628632</td>\n",
       "      <td>-0.336826</td>\n",
       "      <td>-0.578025</td>\n",
       "      <td>-0.401104</td>\n",
       "    </tr>\n",
       "    <tr>\n",
       "      <th>433</th>\n",
       "      <td>-0.690297</td>\n",
       "      <td>0.590668</td>\n",
       "      <td>-0.793029</td>\n",
       "      <td>-0.349738</td>\n",
       "      <td>-0.680366</td>\n",
       "      <td>-0.315711</td>\n",
       "      <td>-0.026934</td>\n",
       "    </tr>\n",
       "    <tr>\n",
       "      <th>434</th>\n",
       "      <td>-0.690297</td>\n",
       "      <td>0.590668</td>\n",
       "      <td>0.374473</td>\n",
       "      <td>-0.254242</td>\n",
       "      <td>0.004501</td>\n",
       "      <td>-0.491618</td>\n",
       "      <td>-0.243839</td>\n",
       "    </tr>\n",
       "    <tr>\n",
       "      <th>435</th>\n",
       "      <td>-0.690297</td>\n",
       "      <td>0.590668</td>\n",
       "      <td>1.401312</td>\n",
       "      <td>0.848446</td>\n",
       "      <td>0.850760</td>\n",
       "      <td>2.075222</td>\n",
       "      <td>0.241091</td>\n",
       "    </tr>\n",
       "    <tr>\n",
       "      <th>436</th>\n",
       "      <td>-0.690297</td>\n",
       "      <td>0.590668</td>\n",
       "      <td>2.155293</td>\n",
       "      <td>-0.592142</td>\n",
       "      <td>-0.757165</td>\n",
       "      <td>0.296561</td>\n",
       "      <td>0.291501</td>\n",
       "    </tr>\n",
       "    <tr>\n",
       "      <th>437</th>\n",
       "      <td>1.448652</td>\n",
       "      <td>0.590668</td>\n",
       "      <td>0.200326</td>\n",
       "      <td>1.314671</td>\n",
       "      <td>2.348386</td>\n",
       "      <td>-0.543380</td>\n",
       "      <td>0.121456</td>\n",
       "    </tr>\n",
       "    <tr>\n",
       "      <th>438</th>\n",
       "      <td>-0.690297</td>\n",
       "      <td>0.590668</td>\n",
       "      <td>-0.135384</td>\n",
       "      <td>-0.517536</td>\n",
       "      <td>-0.602514</td>\n",
       "      <td>-0.419441</td>\n",
       "      <td>0.213046</td>\n",
       "    </tr>\n",
       "    <tr>\n",
       "      <th>439</th>\n",
       "      <td>-0.690297</td>\n",
       "      <td>0.590668</td>\n",
       "      <td>-0.729307</td>\n",
       "      <td>-0.555924</td>\n",
       "      <td>-0.573227</td>\n",
       "      <td>-0.620094</td>\n",
       "      <td>-0.522869</td>\n",
       "    </tr>\n",
       "  </tbody>\n",
       "</table>\n",
       "<p>440 rows × 7 columns</p>\n",
       "</div>"
      ],
      "text/plain": [
       "      Channel    Region     Fresh      Milk   Grocery    Frozen  Delicassen\n",
       "0    1.448652  0.590668  0.052933  0.523568 -0.041115 -0.589367   -0.066339\n",
       "1    1.448652  0.590668 -0.391302  0.544458  0.170318 -0.270136    0.089151\n",
       "2    1.448652  0.590668 -0.447029  0.408538 -0.028157 -0.137536    2.243293\n",
       "3   -0.690297  0.590668  0.100111 -0.624020 -0.392977  0.687144    0.093411\n",
       "4    1.448652  0.590668  0.840239 -0.052396 -0.079356  0.173859    1.299347\n",
       "5    1.448652  0.590668 -0.204806  0.334067 -0.297637 -0.496155   -0.026224\n",
       "6    1.448652  0.590668  0.009950 -0.352316 -0.102849 -0.534512   -0.347854\n",
       "7    1.448652  0.590668 -0.349981 -0.113981  0.155359 -0.289315    0.369601\n",
       "8   -0.690297  0.590668 -0.477901 -0.291409 -0.185336 -0.545854   -0.275079\n",
       "9    1.448652  0.590668 -0.474497  0.718495  1.151423 -0.394488    0.203461\n",
       "10   1.448652  0.590668 -0.683474 -0.053346  0.529133  0.273876    0.077791\n",
       "11   1.448652  0.590668  0.090692 -0.633787 -0.361162 -0.340664   -0.364894\n",
       "12   1.448652  0.590668  1.560499  0.884800  0.400925 -0.574313    0.499176\n",
       "13   1.448652  0.590668  0.729576  0.055851  0.740672  0.004757   -0.327619\n",
       "14   1.448652  0.590668  1.001564  0.497659  0.436111 -0.572869    0.228311\n",
       "15  -0.690297  0.590668 -0.138313 -0.635143 -0.435116 -0.551629   -0.395069\n",
       "16   1.448652  0.590668 -0.869179  0.409623  0.439272 -0.605865   -0.157929\n",
       "17  -0.690297  0.590668 -0.484788  0.048933 -0.528665 -0.460479    1.048362\n",
       "18   1.448652  0.590668  0.522499  0.071993  0.226258 -0.178780    0.587926\n",
       "19  -0.690297  0.590668 -0.334071 -0.447812  0.159362 -0.495536   -0.363474\n",
       "20   1.448652  0.590668  0.438987 -0.173259 -0.352839 -0.413666    0.212691\n",
       "21  -0.690297  0.590668 -0.509248 -0.668106 -0.625901  0.064149   -0.339334\n",
       "22  -0.690297  0.590668  1.525828 -0.526217 -0.366851  1.306634    0.997242\n",
       "23   1.448652  0.590668  1.137716  4.154476  1.482005  0.429367    5.324340\n",
       "24   1.448652  0.590668  0.842773  0.539846  0.615308 -0.032363    1.509862\n",
       "25   1.448652  0.590668  0.329670 -0.212462 -0.037533 -0.592048   -0.521094\n",
       "26  -0.690297  0.590668 -0.166414 -0.655897 -0.536250  0.016306   -0.245614\n",
       "27  -0.690297  0.590668  0.180140 -0.677330 -0.516866 -0.533481   -0.357439\n",
       "28   1.448652  0.590668 -0.624343  1.992372  1.896865 -0.394694    1.306802\n",
       "29  -0.690297  0.590668  2.460843 -0.501394 -0.562798 -0.386033   -0.249164\n",
       "..        ...       ...       ...       ...       ...       ...         ...\n",
       "410 -0.690297  0.590668 -0.424865 -0.501936 -0.356948 -0.347057    0.130331\n",
       "411 -0.690297  0.590668 -0.781630 -0.340107 -0.492004 -0.316948    1.008247\n",
       "412 -0.690297  0.590668 -0.942242 -0.297242  0.468664 -0.613289   -0.519319\n",
       "413 -0.690297  0.590668 -0.555476 -0.127139 -0.138878  3.050856    0.323096\n",
       "414 -0.690297  0.590668 -0.477426 -0.516315 -0.477677  0.537634   -0.438379\n",
       "415  1.448652  0.590668 -0.329163  0.033876  0.063285 -0.284778    0.123941\n",
       "416  1.448652  0.590668 -0.602496  0.697741  0.311485 -0.458623   -0.188814\n",
       "417 -0.690297  0.590668 -0.548985 -0.040324  0.326971 -0.558434   -0.163964\n",
       "418  1.448652  0.590668 -0.897676  0.365944  1.124138 -0.606071   -0.265849\n",
       "419 -0.690297  0.590668 -0.248501 -0.273097 -0.603462 -0.502960   -0.001374\n",
       "420 -0.690297  0.590668 -0.597192 -0.071930  0.555786 -0.628343   -0.046814\n",
       "421  1.448652  0.590668  0.400754 -0.128767  0.116064 -0.420884    0.091991\n",
       "422 -0.690297  0.590668  1.139853 -0.599468 -0.398139 -0.462335   -0.108939\n",
       "423  1.448652  0.590668  0.440491 -0.286255 -0.347045 -0.415110   -0.304189\n",
       "424  1.448652  0.590668  0.394184 -0.395045  0.450965 -0.453261   -0.452934\n",
       "425 -0.690297  0.590668 -0.059946 -0.459614 -0.564483  2.531590    0.128201\n",
       "426 -0.690297  0.590668  0.089742  0.481652  0.670510  0.014243    0.131041\n",
       "427 -0.690297  0.590668  1.504930  1.477314 -0.265717  2.476735   -0.128464\n",
       "428 -0.690297  0.590668 -0.708726  0.023567 -0.320392 -0.180224   -0.428794\n",
       "429 -0.690297  0.590668 -0.268607 -0.548871 -0.460505 -0.623806    0.346526\n",
       "430 -0.690297  0.590668 -0.704768 -0.212462  0.898799 -0.514921    0.197071\n",
       "431 -0.690297  0.590668 -0.274465 -0.039374 -0.294055  2.147605   -0.009539\n",
       "432 -0.690297  0.590668  0.721661 -0.628632 -0.336826 -0.578025   -0.401104\n",
       "433 -0.690297  0.590668 -0.793029 -0.349738 -0.680366 -0.315711   -0.026934\n",
       "434 -0.690297  0.590668  0.374473 -0.254242  0.004501 -0.491618   -0.243839\n",
       "435 -0.690297  0.590668  1.401312  0.848446  0.850760  2.075222    0.241091\n",
       "436 -0.690297  0.590668  2.155293 -0.592142 -0.757165  0.296561    0.291501\n",
       "437  1.448652  0.590668  0.200326  1.314671  2.348386 -0.543380    0.121456\n",
       "438 -0.690297  0.590668 -0.135384 -0.517536 -0.602514 -0.419441    0.213046\n",
       "439 -0.690297  0.590668 -0.729307 -0.555924 -0.573227 -0.620094   -0.522869\n",
       "\n",
       "[440 rows x 7 columns]"
      ]
     },
     "execution_count": 13,
     "metadata": {},
     "output_type": "execute_result"
    }
   ],
   "source": [
    "# Your import here:\n",
    "\n",
    "from sklearn.preprocessing import StandardScaler\n",
    "\n",
    "# Your code here:\n",
    "stan =  StandardScaler().fit(custoer_v2)\n",
    " \n",
    "custoer_v4 = pd.DataFrame(data =stan.transform(custoer_v2), columns = custoer_v2.columns)\n",
    "custoer_v4"
   ]
  },
  {
   "cell_type": "markdown",
   "metadata": {},
   "source": [
    "# Challenge 3 - Data Clustering with K-Means\n",
    "\n",
    "Now let's cluster the data with K-Means first. Initiate the K-Means model, then fit your scaled data. In the data returned from the `.fit` method, there is an attribute called `labels_` which is the cluster number assigned to each data record. What you can do is to assign these labels back to `customers` in a new column called `customers['labels']`. Then you'll see the cluster results of the original data."
   ]
  },
  {
   "cell_type": "code",
   "execution_count": 14,
   "metadata": {
    "scrolled": true
   },
   "outputs": [
    {
     "data": {
      "image/png": "[encoded data removed]",
      "text/plain": [
       "<Figure size 432x288 with 2 Axes>"
      ]
     },
     "metadata": {
      "needs_background": "light"
     },
     "output_type": "display_data"
    }
   ],
   "source": [
    "# Your code here:\n",
    "from sklearn.cluster import KMeans\n",
    "elbows = vis(custoer_v4)"
   ]
  },
  {
   "cell_type": "code",
   "execution_count": 15,
   "metadata": {},
   "outputs": [],
   "source": [
    "kmean = KMeans( n_clusters = elbows).fit(custoer_v2)"
   ]
  },
  {
   "cell_type": "markdown",
   "metadata": {},
   "source": [
    "Count the values in `labels`."
   ]
  },
  {
   "cell_type": "code",
   "execution_count": 24,
   "metadata": {},
   "outputs": [
    {
     "data": {
      "text/plain": [
       "{0, 1, 2, 3, 4, 5}"
      ]
     },
     "execution_count": 24,
     "metadata": {},
     "output_type": "execute_result"
    }
   ],
   "source": [
    "# Your code here:\n",
    "custoer_v4['kmeans'] = kmean.labels_\n",
    "set(kmean.labels_)"
   ]
  },
  {
   "cell_type": "markdown",
   "metadata": {},
   "source": [
    "# Challenge 4 - Data Clustering with DBSCAN\n",
    "\n",
    "Now let's cluster the data using DBSCAN. Use `DBSCAN(eps=0.5)` to initiate the model, then fit your scaled data. In the data returned from the `.fit` method, assign the `labels_` back to `customers['labels_DBSCAN']`. Now your original data have two labels, one from K-Means and the other from DBSCAN."
   ]
  },
  {
   "cell_type": "code",
   "execution_count": 17,
   "metadata": {
    "scrolled": true
   },
   "outputs": [],
   "source": [
    "# Your code here\n",
    "from sklearn.cluster import DBSCAN\n",
    "\n",
    "dbs = DBSCAN(eps=.5).fit(custoer_v2)"
   ]
  },
  {
   "cell_type": "markdown",
   "metadata": {},
   "source": [
    "Count the values in `labels_DBSCAN`."
   ]
  },
  {
   "cell_type": "code",
   "execution_count": 22,
   "metadata": {},
   "outputs": [
    {
     "data": {
      "text/plain": [
       "{-1}"
      ]
     },
     "execution_count": 22,
     "metadata": {},
     "output_type": "execute_result"
    }
   ],
   "source": [
    "# Your code here\n",
    "custoer_v4['dbscan']=dbs.labels_\n",
    "set(dbs.labels_)"
   ]
  },
  {
   "cell_type": "markdown",
   "metadata": {},
   "source": [
    "# Challenge 5 - Compare K-Means with DBSCAN\n",
    "\n",
    "Now we want to visually compare how K-Means and DBSCAN have clustered our data. We will create scatter plots for several columns. For each of the following column pairs, plot a scatter plot using `labels` and another using `labels_DBSCAN`. Put them side by side to compare. Which clustering algorithm makes better sense?\n",
    "\n",
    "Columns to visualize:\n",
    "\n",
    "* `Detergents_Paper` as X and `Milk` as y\n",
    "* `Grocery` as X and `Fresh` as y\n",
    "* `Frozen` as X and `Delicassen` as y"
   ]
  },
  {
   "cell_type": "markdown",
   "metadata": {},
   "source": [
    "Visualize `Detergents_Paper` as X and `Milk` as y by `labels` and `labels_DBSCAN` respectively"
   ]
  },
  {
   "cell_type": "code",
   "execution_count": 19,
   "metadata": {},
   "outputs": [],
   "source": [
    "models= {\n",
    "    'kmeans': kmean,\n",
    "    'dbscan': dbs,\n",
    "#     'agglom': agglom,\n",
    "#     'gmix': gmix\n",
    "}"
   ]
  },
  {
   "cell_type": "code",
   "execution_count": 28,
   "metadata": {},
   "outputs": [],
   "source": [
    "# Your code here:\n",
    "# got rid of Detergents_Paper due to correlation...."
   ]
  },
  {
   "cell_type": "markdown",
   "metadata": {},
   "source": [
    "Visualize `Grocery` as X and `Fresh` as y by `labels` and `labels_DBSCAN` respectively"
   ]
  },
  {
   "cell_type": "code",
   "execution_count": 26,
   "metadata": {},
   "outputs": [
    {
     "data": {
      "image/png": "[encoded data removed]",
      "text/plain": [
       "<Figure size 864x288 with 2 Axes>"
      ]
     },
     "metadata": {
      "needs_background": "light"
     },
     "output_type": "display_data"
    }
   ],
   "source": [
    "# Your code here:\n",
    "graph_labels(custoer_v4, ['Grocery','Fresh'],models)"
   ]
  },
  {
   "cell_type": "markdown",
   "metadata": {},
   "source": [
    "Visualize `Frozen` as X and `Delicassen` as y by `labels` and `labels_DBSCAN` respectively"
   ]
  },
  {
   "cell_type": "code",
   "execution_count": 27,
   "metadata": {},
   "outputs": [
    {
     "data": {
      "image/png": "[encoded data removed]",
      "text/plain": [
       "<Figure size 864x288 with 2 Axes>"
      ]
     },
     "metadata": {
      "needs_background": "light"
     },
     "output_type": "display_data"
    }
   ],
   "source": [
    "# Your code here:\n",
    "graph_labels(custoer_v4, ['Frozen','Delicassen'],models)"
   ]
  },
  {
   "cell_type": "markdown",
   "metadata": {},
   "source": [
    "Let's use a groupby to see how the mean differs between the groups. Group `customers` by `labels` and `labels_DBSCAN` respectively and compute the means for all columns."
   ]
  },
  {
   "cell_type": "code",
   "execution_count": null,
   "metadata": {},
   "outputs": [],
   "source": [
    "# Your code here:\n"
   ]
  },
  {
   "cell_type": "markdown",
   "metadata": {},
   "source": [
    "Which algorithm appears to perform better?"
   ]
  },
  {
   "cell_type": "code",
   "execution_count": null,
   "metadata": {},
   "outputs": [],
   "source": [
    "# Your observations here"
   ]
  },
  {
   "cell_type": "markdown",
   "metadata": {},
   "source": [
    "# Bonus Challenge 2 - Changing K-Means Number of Clusters\n",
    "\n",
    "As we mentioned earlier, we don't need to worry about the number of clusters with DBSCAN because it automatically decides that based on the parameters we send to it. But with K-Means, we have to supply the `n_clusters` param (if you don't supply `n_clusters`, the algorithm will use `8` by default). You need to know that the optimal number of clusters differs case by case based on the dataset. K-Means can perform badly if the wrong number of clusters is used.\n",
    "\n",
    "In advanced machine learning, data scientists try different numbers of clusters and evaluate the results with statistical measures (read [here](https://en.wikipedia.org/wiki/Cluster_analysis#External_evaluation)). We are not using statistical measures today but we'll use our eyes instead. In the cells below, experiment with different number of clusters and visualize with scatter plots. What number of clusters seems to work best for K-Means?"
   ]
  },
  {
   "cell_type": "code",
   "execution_count": null,
   "metadata": {},
   "outputs": [],
   "source": [
    "# Your code here"
   ]
  },
  {
   "cell_type": "code",
   "execution_count": null,
   "metadata": {},
   "outputs": [],
   "source": [
    "# Your comment here"
   ]
  },
  {
   "cell_type": "markdown",
   "metadata": {},
   "source": [
    "# Bonus Challenge 3 - Changing DBSCAN `eps` and `min_samples`\n",
    "\n",
    "Experiment changing the `eps` and `min_samples` params for DBSCAN. See how the results differ with scatter plot visualization."
   ]
  },
  {
   "cell_type": "code",
   "execution_count": null,
   "metadata": {},
   "outputs": [],
   "source": [
    "# Your code here"
   ]
  },
  {
   "cell_type": "code",
   "execution_count": null,
   "metadata": {},
   "outputs": [],
   "source": [
    "# Your comment here"
   ]
  }
 ],
 "metadata": {
  "kernelspec": {
   "display_name": "Python 3",
   "language": "python",
   "name": "python3"
  },
  "language_info": {
   "codemirror_mode": {
    "name": "ipython",
    "version": 3
   },
   "file_extension": ".py",
   "mimetype": "text/x-python",
   "name": "python",
   "nbconvert_exporter": "python",
   "pygments_lexer": "ipython3",
   "version": "3.7.1"
  }
 },
 "nbformat": 4,
 "nbformat_minor": 2
}
